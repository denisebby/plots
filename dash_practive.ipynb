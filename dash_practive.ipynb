{
 "cells": [
  {
   "cell_type": "markdown",
   "metadata": {},
   "source": [
    "# General Set Up"
   ]
  },
  {
   "cell_type": "code",
   "execution_count": 2,
   "metadata": {},
   "outputs": [
    {
     "data": {
      "text/html": [
       "        <script type=\"text/javascript\">\n",
       "        window.PlotlyConfig = {MathJaxConfig: 'local'};\n",
       "        if (window.MathJax) {MathJax.Hub.Config({SVG: {font: \"STIX-Web\"}});}\n",
       "        if (typeof require !== 'undefined') {\n",
       "        require.undef(\"plotly\");\n",
       "        requirejs.config({\n",
       "            paths: {\n",
       "                'plotly': ['https://cdn.plot.ly/plotly-2.9.0.min']\n",
       "            }\n",
       "        });\n",
       "        require(['plotly'], function(Plotly) {\n",
       "            window._Plotly = Plotly;\n",
       "        });\n",
       "        }\n",
       "        </script>\n",
       "        "
      ]
     },
     "metadata": {},
     "output_type": "display_data"
    },
    {
     "data": {
      "text/html": [
       "        <script type=\"text/javascript\">\n",
       "        window.PlotlyConfig = {MathJaxConfig: 'local'};\n",
       "        if (window.MathJax) {MathJax.Hub.Config({SVG: {font: \"STIX-Web\"}});}\n",
       "        if (typeof require !== 'undefined') {\n",
       "        require.undef(\"plotly\");\n",
       "        requirejs.config({\n",
       "            paths: {\n",
       "                'plotly': ['https://cdn.plot.ly/plotly-2.9.0.min']\n",
       "            }\n",
       "        });\n",
       "        require(['plotly'], function(Plotly) {\n",
       "            window._Plotly = Plotly;\n",
       "        });\n",
       "        }\n",
       "        </script>\n",
       "        "
      ]
     },
     "metadata": {},
     "output_type": "display_data"
    }
   ],
   "source": [
    "\n",
    "import seaborn as sns\n",
    "import chart_studio.plotly as py\n",
    "import cufflinks as cf\n",
    "\n",
    "# import plotly.io as pio\n",
    "# pio.kaleido.scope.default_format = \"png\"\n",
    "\n",
    "import plotly.express as px\n",
    "#  Make Plotly work in your Jupyter Notebook\n",
    "from plotly.offline import download_plotlyjs, init_notebook_mode, plot, iplot\n",
    "init_notebook_mode(connected=True)\n",
    "# Use Plotly locally\n",
    "cf.go_offline()\n"
   ]
  },
  {
   "cell_type": "code",
   "execution_count": 3,
   "metadata": {},
   "outputs": [],
   "source": [
    "import dash\n",
    "import dash_core_components as dcc\n",
    "import dash_html_components as html\n",
    "from dash.dependencies import Input, Output"
   ]
  },
  {
   "cell_type": "code",
   "execution_count": 4,
   "metadata": {},
   "outputs": [],
   "source": [
    "import numpy as np\n",
    "import pandas as pd"
   ]
  },
  {
   "cell_type": "code",
   "execution_count": 16,
   "metadata": {},
   "outputs": [],
   "source": [
    "import jupyterlab_dash"
   ]
  },
  {
   "cell_type": "markdown",
   "metadata": {},
   "source": [
    "# DASH"
   ]
  },
  {
   "cell_type": "code",
   "execution_count": 5,
   "metadata": {},
   "outputs": [],
   "source": [
    "df = pd.read_csv(\"intro_bees.csv\") \n",
    "df = df.groupby(['State', 'ANSI', 'Affected by', 'Year', 'state_code'])[['Pct of Colonies Impacted']].mean()\n",
    "df.reset_index(inplace=True)"
   ]
  },
  {
   "cell_type": "code",
   "execution_count": 6,
   "metadata": {},
   "outputs": [
    {
     "data": {
      "text/html": [
       "<div>\n",
       "<style scoped>\n",
       "    .dataframe tbody tr th:only-of-type {\n",
       "        vertical-align: middle;\n",
       "    }\n",
       "\n",
       "    .dataframe tbody tr th {\n",
       "        vertical-align: top;\n",
       "    }\n",
       "\n",
       "    .dataframe thead th {\n",
       "        text-align: right;\n",
       "    }\n",
       "</style>\n",
       "<table border=\"1\" class=\"dataframe\">\n",
       "  <thead>\n",
       "    <tr style=\"text-align: right;\">\n",
       "      <th></th>\n",
       "      <th>State</th>\n",
       "      <th>ANSI</th>\n",
       "      <th>Affected by</th>\n",
       "      <th>Year</th>\n",
       "      <th>state_code</th>\n",
       "      <th>Pct of Colonies Impacted</th>\n",
       "    </tr>\n",
       "  </thead>\n",
       "  <tbody>\n",
       "    <tr>\n",
       "      <th>0</th>\n",
       "      <td>Alabama</td>\n",
       "      <td>1</td>\n",
       "      <td>Disease</td>\n",
       "      <td>2015</td>\n",
       "      <td>AL</td>\n",
       "      <td>0.05</td>\n",
       "    </tr>\n",
       "    <tr>\n",
       "      <th>1</th>\n",
       "      <td>Alabama</td>\n",
       "      <td>1</td>\n",
       "      <td>Disease</td>\n",
       "      <td>2016</td>\n",
       "      <td>AL</td>\n",
       "      <td>1.20</td>\n",
       "    </tr>\n",
       "    <tr>\n",
       "      <th>2</th>\n",
       "      <td>Alabama</td>\n",
       "      <td>1</td>\n",
       "      <td>Disease</td>\n",
       "      <td>2017</td>\n",
       "      <td>AL</td>\n",
       "      <td>2.25</td>\n",
       "    </tr>\n",
       "    <tr>\n",
       "      <th>3</th>\n",
       "      <td>Alabama</td>\n",
       "      <td>1</td>\n",
       "      <td>Disease</td>\n",
       "      <td>2018</td>\n",
       "      <td>AL</td>\n",
       "      <td>1.30</td>\n",
       "    </tr>\n",
       "    <tr>\n",
       "      <th>4</th>\n",
       "      <td>Alabama</td>\n",
       "      <td>1</td>\n",
       "      <td>Disease</td>\n",
       "      <td>2019</td>\n",
       "      <td>AL</td>\n",
       "      <td>1.80</td>\n",
       "    </tr>\n",
       "  </tbody>\n",
       "</table>\n",
       "</div>"
      ],
      "text/plain": [
       "     State  ANSI Affected by  Year state_code  Pct of Colonies Impacted\n",
       "0  Alabama     1     Disease  2015         AL                      0.05\n",
       "1  Alabama     1     Disease  2016         AL                      1.20\n",
       "2  Alabama     1     Disease  2017         AL                      2.25\n",
       "3  Alabama     1     Disease  2018         AL                      1.30\n",
       "4  Alabama     1     Disease  2019         AL                      1.80"
      ]
     },
     "metadata": {},
     "output_type": "display_data"
    },
    {
     "name": "stdout",
     "output_type": "stream",
     "text": [
      "(1350, 6)\n"
     ]
    }
   ],
   "source": [
    "display(df.head())\n",
    "print(df.shape)"
   ]
  },
  {
   "cell_type": "code",
   "execution_count": 7,
   "metadata": {},
   "outputs": [],
   "source": [
    "app = dash.Dash(__name__)\n",
    "\n",
    "# App layout\n",
    "app.layout = html.Div([\n",
    "\n",
    "    html.H1(\"Web Application Dashboards with Dash\", style={'text-align': 'center'}),\n",
    "\n",
    "    dcc.Dropdown(id=\"slct_year\",\n",
    "                 options=[\n",
    "                     {\"label\": \"2015\", \"value\": 2015},\n",
    "                     {\"label\": \"2016\", \"value\": 2016},\n",
    "                     {\"label\": \"2017\", \"value\": 2017},\n",
    "                     {\"label\": \"2018\", \"value\": 2018}],\n",
    "                 multi=False,\n",
    "                 value=2015,\n",
    "                 style={'width': \"40%\"}\n",
    "                 ),\n",
    "\n",
    "    html.Div(id='output_container', children=[]),\n",
    "    html.Br(),\n",
    "\n",
    "    dcc.Graph(id='my_bee_map', figure={})\n",
    "\n",
    "])\n"
   ]
  },
  {
   "cell_type": "code",
   "execution_count": 8,
   "metadata": {},
   "outputs": [],
   "source": [
    "# Connect the Plotly graphs with Dash Components\n",
    "@app.callback(\n",
    "    [Output(component_id='output_container', component_property='children'),\n",
    "     Output(component_id='my_bee_map', component_property='figure')],\n",
    "    [Input(component_id='slct_year', component_property='value')]\n",
    ")\n",
    "def update_graph(option_slctd):\n",
    "    print(option_slctd)\n",
    "    print(type(option_slctd))\n",
    "\n",
    "    container = \"The year chosen by user was: {}\".format(option_slctd)\n",
    "\n",
    "    dff = df.copy()\n",
    "    dff = dff[dff[\"Year\"] == option_slctd]\n",
    "    dff = dff[dff[\"Affected by\"] == \"Varroa_mites\"]\n",
    "\n",
    "    # Plotly Express\n",
    "    fig = px.choropleth(\n",
    "        data_frame=dff,\n",
    "        locationmode='USA-states',\n",
    "        locations='state_code',\n",
    "        scope=\"usa\",\n",
    "        color='Pct of Colonies Impacted',\n",
    "        hover_data=['State', 'Pct of Colonies Impacted'],\n",
    "        color_continuous_scale=px.colors.sequential.YlOrRd,\n",
    "        labels={'Pct of Colonies Impacted': '% of Bee Colonies'},\n",
    "        template='plotly_dark'\n",
    "    )\n",
    "\n",
    "    # Plotly Graph Objects (GO)\n",
    "    # fig = go.Figure(\n",
    "    #     data=[go.Choropleth(\n",
    "    #         locationmode='USA-states',\n",
    "    #         locations=dff['state_code'],\n",
    "    #         z=dff[\"Pct of Colonies Impacted\"].astype(float),\n",
    "    #         colorscale='Reds',\n",
    "    #     )]\n",
    "    # )\n",
    "    #\n",
    "    # fig.update_layout(\n",
    "    #     title_text=\"Bees Affected by Mites in the USA\",\n",
    "    #     title_xanchor=\"center\",\n",
    "    #     title_font=dict(size=24),\n",
    "    #     title_x=0.5,\n",
    "    #     geo=dict(scope='usa'),\n",
    "    # )\n",
    "\n",
    "    return container, fig\n",
    "\n",
    "\n",
    "# ------------------------------------------------------------------------------\n",
    "# if __name__ == '__main__':\n",
    "#     app.run_server(debug=True)"
   ]
  },
  {
   "cell_type": "code",
   "execution_count": 9,
   "metadata": {},
   "outputs": [
    {
     "name": "stdout",
     "output_type": "stream",
     "text": [
      "Dash is running on http://127.0.0.1:8050/\n",
      "\n",
      " * Serving Flask app '__main__' (lazy loading)\n",
      " * Environment: production\n",
      "\u001b[31m   WARNING: This is a development server. Do not use it in a production deployment.\u001b[0m\n",
      "\u001b[2m   Use a production WSGI server instead.\u001b[0m\n",
      " * Debug mode: on\n"
     ]
    },
    {
     "name": "stderr",
     "output_type": "stream",
     "text": [
      "/opt/miniconda3/envs/kaggle_conda_env/lib/python3.8/site-packages/traitlets/traitlets.py:2202: FutureWarning: Supporting extra quotes around strings is deprecated in traitlets 5.0. You can use 'hmac-sha256' instead of '\"hmac-sha256\"' if you require traitlets >=5.\n",
      "  warn(\n",
      "/opt/miniconda3/envs/kaggle_conda_env/lib/python3.8/site-packages/traitlets/traitlets.py:2157: FutureWarning: Supporting extra quotes around Bytes is deprecated in traitlets 5.0. Use '47bb1394-e434-4d0a-94da-ba7a4e6112ec' instead of 'b\"47bb1394-e434-4d0a-94da-ba7a4e6112ec\"'.\n",
      "  warn(\n",
      "Traceback (most recent call last):\n",
      "  File \"/opt/miniconda3/envs/kaggle_conda_env/lib/python3.8/site-packages/ipykernel_launcher.py\", line 16, in <module>\n",
      "    app.launch_new_instance()\n",
      "  File \"/opt/miniconda3/envs/kaggle_conda_env/lib/python3.8/site-packages/traitlets/config/application.py\", line 845, in launch_instance\n",
      "    app.initialize(argv)\n",
      "  File \"/opt/miniconda3/envs/kaggle_conda_env/lib/python3.8/site-packages/traitlets/config/application.py\", line 88, in inner\n",
      "    return method(app, *args, **kwargs)\n",
      "  File \"/opt/miniconda3/envs/kaggle_conda_env/lib/python3.8/site-packages/ipykernel/kernelapp.py\", line 632, in initialize\n",
      "    self.init_sockets()\n",
      "  File \"/opt/miniconda3/envs/kaggle_conda_env/lib/python3.8/site-packages/ipykernel/kernelapp.py\", line 282, in init_sockets\n",
      "    self.shell_port = self._bind_socket(self.shell_socket, self.shell_port)\n",
      "  File \"/opt/miniconda3/envs/kaggle_conda_env/lib/python3.8/site-packages/ipykernel/kernelapp.py\", line 229, in _bind_socket\n",
      "    return self._try_bind_socket(s, port)\n",
      "  File \"/opt/miniconda3/envs/kaggle_conda_env/lib/python3.8/site-packages/ipykernel/kernelapp.py\", line 205, in _try_bind_socket\n",
      "    s.bind(\"tcp://%s:%i\" % (self.ip, port))\n",
      "  File \"/opt/miniconda3/envs/kaggle_conda_env/lib/python3.8/site-packages/zmq/sugar/socket.py\", line 214, in bind\n",
      "    super().bind(addr)\n",
      "  File \"zmq/backend/cython/socket.pyx\", line 540, in zmq.backend.cython.socket.Socket.bind\n",
      "  File \"zmq/backend/cython/checkrc.pxd\", line 28, in zmq.backend.cython.checkrc._check_rc\n",
      "zmq.error.ZMQError: Address already in use\n"
     ]
    },
    {
     "ename": "SystemExit",
     "evalue": "1",
     "output_type": "error",
     "traceback": [
      "An exception has occurred, use %tb to see the full traceback.\n",
      "\u001b[0;31mSystemExit\u001b[0m\u001b[0;31m:\u001b[0m 1\n"
     ]
    },
    {
     "name": "stderr",
     "output_type": "stream",
     "text": [
      "/opt/miniconda3/envs/kaggle_conda_env/lib/python3.8/site-packages/IPython/core/interactiveshell.py:3369: UserWarning:\n",
      "\n",
      "To exit: use 'exit', 'quit', or Ctrl-D.\n",
      "\n"
     ]
    }
   ],
   "source": [
    "app.run_server(debug=True)"
   ]
  },
  {
   "cell_type": "code",
   "execution_count": 19,
   "metadata": {},
   "outputs": [
    {
     "name": "stderr",
     "output_type": "stream",
     "text": [
      "Exception in thread Thread-107:\n",
      "Traceback (most recent call last):\n",
      "  File \"/opt/miniconda3/envs/kaggle_conda_env/lib/python3.8/threading.py\", line 932, in _bootstrap_inner\n",
      "    self.run()\n",
      "  File \"/opt/miniconda3/envs/kaggle_conda_env/lib/python3.8/threading.py\", line 1254, in run\n",
      "    self.function(*self.args, **self.kwargs)\n",
      "  File \"/opt/miniconda3/envs/kaggle_conda_env/lib/python3.8/site-packages/jupyterlab_dash/__init__.py\", line 63, in _perform_show\n",
      "    raise IOError(\"\"\"\n",
      "OSError: \n",
      "Unable to communicate with the jupyterlab-dash JupyterLab extension.\n",
      "Is this Python kernel running inside JupyterLab with the jupyterlab-dash\n",
      "extension installed?\n",
      "\n",
      "You can install the extension with:\n",
      "\n",
      "$ jupyter labextension install jupyterlab-dash\n",
      "\n"
     ]
    }
   ],
   "source": [
    "# app.run_server(debug=True)\n",
    "viewer = jupyterlab_dash.AppViewer()\n",
    "viewer.show(app)\n",
    "    "
   ]
  },
  {
   "cell_type": "markdown",
   "metadata": {},
   "source": [
    "# DASH 2, inline in vs code ipynb"
   ]
  },
  {
   "cell_type": "code",
   "execution_count": 1,
   "metadata": {},
   "outputs": [
    {
     "data": {
      "text/html": [
       "\n",
       "        <iframe\n",
       "            width=\"100%\"\n",
       "            height=\"650\"\n",
       "            src=\"http://127.0.0.1:8050/\"\n",
       "            frameborder=\"0\"\n",
       "            allowfullscreen\n",
       "            \n",
       "        ></iframe>\n",
       "        "
      ],
      "text/plain": [
       "<IPython.lib.display.IFrame at 0x7f9d620d6a30>"
      ]
     },
     "metadata": {},
     "output_type": "display_data"
    }
   ],
   "source": [
    "from jupyter_dash import JupyterDash\n",
    "import dash_core_components as dcc\n",
    "import dash_html_components as html\n",
    "from dash.dependencies import Input, Output\n",
    "\n",
    "app = JupyterDash('SimpleExample')\n",
    "\n",
    "app.layout = html.Div([\n",
    "    dcc.RadioItems(\n",
    "        id = 'dropdown-color',\n",
    "        options = [{'label' : c, 'value' : c.lower()} for c in ['Red','Green','Blue']],\n",
    "        value = 'red'\n",
    "    )\n",
    "]) \n",
    "# Run app and display result inline in the notebook\n",
    "app.run_server(mode='inline')"
   ]
  },
  {
   "cell_type": "code",
   "execution_count": 4,
   "metadata": {},
   "outputs": [
    {
     "data": {
      "text/html": [
       "\n",
       "        <iframe\n",
       "            width=\"100%\"\n",
       "            height=\"650\"\n",
       "            src=\"http://127.0.0.1:8050/\"\n",
       "            frameborder=\"0\"\n",
       "            allowfullscreen\n",
       "            \n",
       "        ></iframe>\n",
       "        "
      ],
      "text/plain": [
       "<IPython.lib.display.IFrame at 0x7f9d67a5dcd0>"
      ]
     },
     "metadata": {},
     "output_type": "display_data"
    }
   ],
   "source": [
    "# Load Data\n",
    "df = px.data.tips()\n",
    "# Build App\n",
    "app = JupyterDash(__name__)\n",
    "app.layout = html.Div([\n",
    "    html.H1(\"JupyterDash Demo\"),\n",
    "    dcc.Graph(id='graph'),\n",
    "    html.Label([\n",
    "        \"colorscale\",\n",
    "        dcc.Dropdown(\n",
    "            id='colorscale-dropdown', clearable=False,\n",
    "            value='plasma', options=[\n",
    "                {'label': c, 'value': c}\n",
    "                for c in px.colors.named_colorscales()\n",
    "            ])\n",
    "    ]),\n",
    "])\n",
    "# Define callback to update graph\n",
    "@app.callback(\n",
    "    Output('graph', 'figure'),\n",
    "    [Input(\"colorscale-dropdown\", \"value\")]\n",
    ")\n",
    "def update_figure(colorscale):\n",
    "    return px.scatter(\n",
    "        df, x=\"total_bill\", y=\"tip\", color=\"size\",\n",
    "        color_continuous_scale=colorscale,\n",
    "        render_mode=\"webgl\", title=\"Tips\"\n",
    "    )\n",
    "# Run app and display result inline in the notebook\n",
    "app.run_server(mode='inline')"
   ]
  }
 ],
 "metadata": {
  "interpreter": {
   "hash": "6eef2a13dc96940f585cf3c15521d9c910519598d91258237f5485feeed702d6"
  },
  "kernelspec": {
   "display_name": "Python 3.8.13 ('kaggle_conda_env')",
   "language": "python",
   "name": "python3"
  },
  "language_info": {
   "codemirror_mode": {
    "name": "ipython",
    "version": 3
   },
   "file_extension": ".py",
   "mimetype": "text/x-python",
   "name": "python",
   "nbconvert_exporter": "python",
   "pygments_lexer": "ipython3",
   "version": "3.8.13"
  },
  "orig_nbformat": 4
 },
 "nbformat": 4,
 "nbformat_minor": 2
}
